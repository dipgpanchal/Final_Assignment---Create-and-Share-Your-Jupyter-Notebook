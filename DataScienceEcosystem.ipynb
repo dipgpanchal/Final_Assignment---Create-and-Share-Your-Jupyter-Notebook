{
 "cells": [
  {
   "cell_type": "markdown",
   "id": "71656420",
   "metadata": {},
   "source": [
    "# Data Science Tools and Ecosystem"
   ]
  },
  {
   "cell_type": "markdown",
   "id": "e8027690",
   "metadata": {},
   "source": [
    "In this notebook, Data Science Tools and Ecosystem are summarized."
   ]
  },
  {
   "cell_type": "markdown",
   "id": "e1059182",
   "metadata": {},
   "source": [
    "### Overview\n",
    "\n",
    "Some of the popular languages that Data Scientists use are:\n",
    "1. Python\n",
    "2. R\n",
    "3. SQL : Structured Query Language\n",
    "4. Julia\n",
    "5. Scala"
   ]
  },
  {
   "cell_type": "markdown",
   "id": "e642c0a4",
   "metadata": {},
   "source": [
    "Some of the commonly used libraries used by Data Scientists include:\n",
    "* NumPy\n",
    "* pandas\n",
    "* Matplotlib\n",
    "* Scikit-learn\n",
    "* TensorFlow and PyTorch\n",
    "* Keras"
   ]
  },
  {
   "cell_type": "markdown",
   "id": "854f3479",
   "metadata": {},
   "source": [
    "| Data Science Tools |\n",
    "|--------|\n",
    "|Jupyter|\n",
    "|Spyder|\n",
    "|RStudio|"
   ]
  },
  {
   "cell_type": "markdown",
   "id": "948ab0b0",
   "metadata": {},
   "source": [
    "### Below are a few examples of evaluating arithmetic expressions in Python"
   ]
  },
  {
   "cell_type": "code",
   "execution_count": 1,
   "id": "3f87d212",
   "metadata": {},
   "outputs": [
    {
     "data": {
      "text/plain": [
       "17"
      ]
     },
     "execution_count": 1,
     "metadata": {},
     "output_type": "execute_result"
    }
   ],
   "source": [
    "## This a simple arithmetic expression to mutiply then add integers.\n",
    "(3*4)+5"
   ]
  },
  {
   "cell_type": "code",
   "execution_count": 2,
   "id": "7f11480d",
   "metadata": {
    "scrolled": false
   },
   "outputs": [
    {
     "data": {
      "text/plain": [
       "3.3333333333333335"
      ]
     },
     "execution_count": 2,
     "metadata": {},
     "output_type": "execute_result"
    }
   ],
   "source": [
    "## This will convert 200 minutes to hours by diving by 60.\n",
    "200/60"
   ]
  },
  {
   "cell_type": "markdown",
   "id": "81cc0bde",
   "metadata": {},
   "source": [
    "**Objectives:**\n",
    "- Jupyter notebooks originated as \"Ipython\" for python use.\n",
    "- Allows combining text,code blocks and code output in a single file.\n",
    "- JupyterLab allows access to multiple Jupyer notebook files, other code and data files.\n",
    "- It is compatible with several file formats."
   ]
  },
  {
   "cell_type": "markdown",
   "id": "bcf22e76",
   "metadata": {},
   "source": [
    "## Author\n",
    "Dip Panchal"
   ]
  },
  {
   "cell_type": "code",
   "execution_count": null,
   "id": "2b7eef2f",
   "metadata": {},
   "outputs": [],
   "source": []
  }
 ],
 "metadata": {
  "kernelspec": {
   "display_name": "Python 3 (ipykernel)",
   "language": "python",
   "name": "python3"
  },
  "language_info": {
   "codemirror_mode": {
    "name": "ipython",
    "version": 3
   },
   "file_extension": ".py",
   "mimetype": "text/x-python",
   "name": "python",
   "nbconvert_exporter": "python",
   "pygments_lexer": "ipython3",
   "version": "3.10.9"
  }
 },
 "nbformat": 4,
 "nbformat_minor": 5
}
